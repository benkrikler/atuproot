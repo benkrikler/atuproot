{
 "cells": [
  {
   "cell_type": "markdown",
   "metadata": {},
   "source": [
    "# Tutorial"
   ]
  },
  {
   "cell_type": "code",
   "execution_count": null,
   "metadata": {},
   "outputs": [],
   "source": [
    "from collections import namedtuple\n",
    "import matplotlib.pyplot as plt\n",
    "import numpy as np\n",
    "\n",
    "from atuproot.AtUproot import AtUproot"
   ]
  },
  {
   "cell_type": "code",
   "execution_count": null,
   "metadata": {},
   "outputs": [],
   "source": [
    "process = AtUproot(\"output\",\n",
    "                  quiet = False,\n",
    "                  parallel_mode = 'multiprocessing',\n",
    "                  process = 0,\n",
    "                  max_blocks_per_dataset = -1,\n",
    "                  max_blocks_per_process = -1,\n",
    "                  nevents_per_block = 1000000,\n",
    "                  profile = False,\n",
    "                  profile_out_path = 'profile.txt')"
   ]
  },
  {
   "cell_type": "code",
   "execution_count": null,
   "metadata": {},
   "outputs": [],
   "source": [
    "class TestScribbler(object):\n",
    "    def __init__(self):\n",
    "        self.bins = np.linspace(0., 40., 11)\n",
    "\n",
    "    def begin(self, event):\n",
    "        self.hist = None\n",
    "    \n",
    "    def event(self, event):\n",
    "        hist, _ = np.histogram(event.pt1, self.bins)\n",
    "        if self.hist is None:\n",
    "            self.hist = hist\n",
    "        else:\n",
    "            self.hist += hist\n",
    "            \n",
    "    def merge(self, other):\n",
    "        if self.hist is None:\n",
    "            self = other\n",
    "            return\n",
    "        if other.hist is None:\n",
    "            return\n",
    "        \n",
    "        self.hist += other.hist\n",
    "        \n",
    "class TestCollector(object):\n",
    "    def collect(self, dataset_readers_list):\n",
    "        reader = dataset_readers_list[0][1][0]\n",
    "        return (reader.bins, reader.hist)"
   ]
  },
  {
   "cell_type": "code",
   "execution_count": null,
   "metadata": {},
   "outputs": [],
   "source": [
    "sequence = [(TestScribbler(), TestCollector())]"
   ]
  },
  {
   "cell_type": "code",
   "execution_count": null,
   "metadata": {},
   "outputs": [],
   "source": [
    "Dataset = namedtuple(\"Dataset\", \"name tree files\")\n",
    "hzz = Dataset(name = \"hzz\",\n",
    "             tree = \"events\",\n",
    "             files = [\"HZZ.root\"])\n",
    "zuu = Dataset(name = \"zuu\",\n",
    "             tree = \"events\",\n",
    "             files = [\"Zmumu.root\"])\n",
    "datasets = [zuu] #,hzz]"
   ]
  },
  {
   "cell_type": "code",
   "execution_count": null,
   "metadata": {},
   "outputs": [],
   "source": [
    "result = process.run(datasets, sequence)"
   ]
  },
  {
   "cell_type": "code",
   "execution_count": null,
   "metadata": {},
   "outputs": [],
   "source": [
    "bins, hist = result[0][0]"
   ]
  },
  {
   "cell_type": "code",
   "execution_count": null,
   "metadata": {},
   "outputs": [],
   "source": [
    "plt.hist(\n",
    "    hist,\n",
    "    bins = bins,\n",
    "    log = True,\n",
    ")"
   ]
  },
  {
   "cell_type": "code",
   "execution_count": null,
   "metadata": {},
   "outputs": [],
   "source": []
  }
 ],
 "metadata": {
  "kernelspec": {
   "display_name": "Python 3",
   "language": "python",
   "name": "python3"
  },
  "language_info": {
   "codemirror_mode": {
    "name": "ipython",
    "version": 3
   },
   "file_extension": ".py",
   "mimetype": "text/x-python",
   "name": "python",
   "nbconvert_exporter": "python",
   "pygments_lexer": "ipython3",
   "version": "3.6.6"
  }
 },
 "nbformat": 4,
 "nbformat_minor": 2
}
